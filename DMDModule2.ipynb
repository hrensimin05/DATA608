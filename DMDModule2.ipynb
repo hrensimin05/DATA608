{
  "nbformat": 4,
  "nbformat_minor": 0,
  "metadata": {
    "kernelspec": {
      "display_name": "Python 3",
      "language": "python",
      "name": "python3"
    },
    "language_info": {
      "codemirror_mode": {
        "name": "ipython",
        "version": 3
      },
      "file_extension": ".py",
      "mimetype": "text/x-python",
      "name": "python",
      "nbconvert_exporter": "python",
      "pygments_lexer": "ipython3",
      "version": "3.7.4"
    },
    "colab": {
      "name": "DMDModule2.ipynb",
      "provenance": [],
      "include_colab_link": true
    }
  },
  "cells": [
    {
      "cell_type": "markdown",
      "metadata": {
        "id": "view-in-github",
        "colab_type": "text"
      },
      "source": [
        "<a href=\"https://colab.research.google.com/github/hrensimin05/DATA608/blob/main/DMDModule2.ipynb\" target=\"_parent\"><img src=\"https://colab.research.google.com/assets/colab-badge.svg\" alt=\"Open In Colab\"/></a>"
      ]
    },
    {
      "cell_type": "code",
      "metadata": {
        "id": "EcslvLkP_3QY",
        "colab": {
          "base_uri": "https://localhost:8080/",
          "height": 1000
        },
        "outputId": "684764be-b907-49be-b5c9-e7d7f0ca97af"
      },
      "source": [
        "!pip install datashader\n",
        "import datashader as ds\n",
        "import datashader.transfer_functions as tf\n",
        "import datashader.glyphs\n",
        "from datashader import reductions\n",
        "from datashader.core import bypixel\n",
        "from datashader.utils import lnglat_to_meters as webm, export_image\n",
        "from datashader.colors import colormap_select, Greys9, viridis, inferno\n",
        "import copy\n",
        "\n",
        "!pip install pyproj\n",
        "from pyproj import Proj, transform\n",
        "import numpy as np\n",
        "import pandas as pd\n",
        "import urllib\n",
        "import json\n",
        "import datetime\n",
        "import colorlover as cl\n",
        "\n",
        "import plotly.offline as py\n",
        "import plotly.graph_objs as go\n",
        "from plotly import tools\n",
        "\n",
        "# from shapely.geometry import Point, Polygon, shape\n",
        "# In order to get shapley, you'll need to run [pip install shapely.geometry] from your terminal\n",
        "\n",
        "from functools import partial\n",
        "\n",
        "\n",
        "from IPython.display import GeoJSON\n",
        "\n",
        "py.init_notebook_mode()"
      ],
      "execution_count": 68,
      "outputs": [
        {
          "output_type": "stream",
          "name": "stdout",
          "text": [
            "Requirement already satisfied: datashader in /usr/local/lib/python3.7/dist-packages (0.13.0)\n",
            "Requirement already satisfied: xarray>=0.9.6 in /usr/local/lib/python3.7/dist-packages (from datashader) (0.18.2)\n",
            "Requirement already satisfied: datashape>=0.5.1 in /usr/local/lib/python3.7/dist-packages (from datashader) (0.5.2)\n",
            "Requirement already satisfied: dask[complete]>=0.18.0 in /usr/local/lib/python3.7/dist-packages (from datashader) (2.12.0)\n",
            "Requirement already satisfied: pillow>=3.1.1 in /usr/local/lib/python3.7/dist-packages (from datashader) (7.1.2)\n",
            "Requirement already satisfied: colorcet>=0.9.0 in /usr/local/lib/python3.7/dist-packages (from datashader) (2.0.6)\n",
            "Requirement already satisfied: numpy>=1.7 in /usr/local/lib/python3.7/dist-packages (from datashader) (1.19.5)\n",
            "Requirement already satisfied: pyct>=0.4.5 in /usr/local/lib/python3.7/dist-packages (from datashader) (0.4.8)\n",
            "Requirement already satisfied: pandas>=0.24.1 in /usr/local/lib/python3.7/dist-packages (from datashader) (1.1.5)\n",
            "Requirement already satisfied: param>=1.6.1 in /usr/local/lib/python3.7/dist-packages (from datashader) (1.11.1)\n",
            "Requirement already satisfied: numba>=0.51 in /usr/local/lib/python3.7/dist-packages (from datashader) (0.51.2)\n",
            "Requirement already satisfied: scipy in /usr/local/lib/python3.7/dist-packages (from datashader) (1.4.1)\n",
            "Requirement already satisfied: partd>=0.3.10 in /usr/local/lib/python3.7/dist-packages (from dask[complete]>=0.18.0->datashader) (1.2.0)\n",
            "Requirement already satisfied: bokeh>=1.0.0 in /usr/local/lib/python3.7/dist-packages (from dask[complete]>=0.18.0->datashader) (2.3.3)\n",
            "Requirement already satisfied: PyYaml in /usr/local/lib/python3.7/dist-packages (from dask[complete]>=0.18.0->datashader) (3.13)\n",
            "Requirement already satisfied: fsspec>=0.6.0 in /usr/local/lib/python3.7/dist-packages (from dask[complete]>=0.18.0->datashader) (2021.9.0)\n",
            "Requirement already satisfied: distributed>=2.0 in /usr/local/lib/python3.7/dist-packages (from dask[complete]>=0.18.0->datashader) (2.30.1)\n",
            "Requirement already satisfied: cloudpickle>=0.2.1 in /usr/local/lib/python3.7/dist-packages (from dask[complete]>=0.18.0->datashader) (2.0.0)\n",
            "Requirement already satisfied: toolz>=0.7.3 in /usr/local/lib/python3.7/dist-packages (from dask[complete]>=0.18.0->datashader) (0.11.1)\n",
            "Requirement already satisfied: typing-extensions>=3.7.4 in /usr/local/lib/python3.7/dist-packages (from bokeh>=1.0.0->dask[complete]>=0.18.0->datashader) (3.7.4.3)\n",
            "Requirement already satisfied: Jinja2>=2.9 in /usr/local/lib/python3.7/dist-packages (from bokeh>=1.0.0->dask[complete]>=0.18.0->datashader) (2.11.3)\n",
            "Requirement already satisfied: python-dateutil>=2.1 in /usr/local/lib/python3.7/dist-packages (from bokeh>=1.0.0->dask[complete]>=0.18.0->datashader) (2.8.2)\n",
            "Requirement already satisfied: tornado>=5.1 in /usr/local/lib/python3.7/dist-packages (from bokeh>=1.0.0->dask[complete]>=0.18.0->datashader) (5.1.1)\n",
            "Requirement already satisfied: packaging>=16.8 in /usr/local/lib/python3.7/dist-packages (from bokeh>=1.0.0->dask[complete]>=0.18.0->datashader) (21.0)\n",
            "Requirement already satisfied: multipledispatch>=0.4.7 in /usr/local/lib/python3.7/dist-packages (from datashape>=0.5.1->datashader) (0.6.0)\n",
            "Requirement already satisfied: psutil>=5.0 in /usr/local/lib/python3.7/dist-packages (from distributed>=2.0->dask[complete]>=0.18.0->datashader) (5.4.8)\n",
            "Requirement already satisfied: sortedcontainers!=2.0.0,!=2.0.1 in /usr/local/lib/python3.7/dist-packages (from distributed>=2.0->dask[complete]>=0.18.0->datashader) (2.4.0)\n",
            "Requirement already satisfied: zict>=0.1.3 in /usr/local/lib/python3.7/dist-packages (from distributed>=2.0->dask[complete]>=0.18.0->datashader) (2.0.0)\n",
            "Requirement already satisfied: msgpack>=0.6.0 in /usr/local/lib/python3.7/dist-packages (from distributed>=2.0->dask[complete]>=0.18.0->datashader) (1.0.2)\n",
            "Requirement already satisfied: tblib>=1.6.0 in /usr/local/lib/python3.7/dist-packages (from distributed>=2.0->dask[complete]>=0.18.0->datashader) (1.7.0)\n",
            "Requirement already satisfied: setuptools in /usr/local/lib/python3.7/dist-packages (from distributed>=2.0->dask[complete]>=0.18.0->datashader) (57.4.0)\n",
            "Requirement already satisfied: click>=6.6 in /usr/local/lib/python3.7/dist-packages (from distributed>=2.0->dask[complete]>=0.18.0->datashader) (7.1.2)\n",
            "Requirement already satisfied: MarkupSafe>=0.23 in /usr/local/lib/python3.7/dist-packages (from Jinja2>=2.9->bokeh>=1.0.0->dask[complete]>=0.18.0->datashader) (2.0.1)\n",
            "Requirement already satisfied: six in /usr/local/lib/python3.7/dist-packages (from multipledispatch>=0.4.7->datashape>=0.5.1->datashader) (1.15.0)\n",
            "Requirement already satisfied: llvmlite<0.35,>=0.34.0.dev0 in /usr/local/lib/python3.7/dist-packages (from numba>=0.51->datashader) (0.34.0)\n",
            "Requirement already satisfied: pyparsing>=2.0.2 in /usr/local/lib/python3.7/dist-packages (from packaging>=16.8->bokeh>=1.0.0->dask[complete]>=0.18.0->datashader) (2.4.7)\n",
            "Requirement already satisfied: pytz>=2017.2 in /usr/local/lib/python3.7/dist-packages (from pandas>=0.24.1->datashader) (2018.9)\n",
            "Requirement already satisfied: locket in /usr/local/lib/python3.7/dist-packages (from partd>=0.3.10->dask[complete]>=0.18.0->datashader) (0.2.1)\n",
            "Requirement already satisfied: heapdict in /usr/local/lib/python3.7/dist-packages (from zict>=0.1.3->distributed>=2.0->dask[complete]>=0.18.0->datashader) (1.0.1)\n",
            "Requirement already satisfied: pyproj in /usr/local/lib/python3.7/dist-packages (3.2.1)\n",
            "Requirement already satisfied: certifi in /usr/local/lib/python3.7/dist-packages (from pyproj) (2021.5.30)\n"
          ]
        },
        {
          "output_type": "error",
          "ename": "ImportError",
          "evalue": "ignored",
          "traceback": [
            "\u001b[0;31m---------------------------------------------------------------------------\u001b[0m",
            "\u001b[0;31mImportError\u001b[0m                               Traceback (most recent call last)",
            "\u001b[0;32m<ipython-input-68-2d937e91ef74>\u001b[0m in \u001b[0;36m<module>\u001b[0;34m()\u001b[0m\n\u001b[1;32m     28\u001b[0m \u001b[0;34m\u001b[0m\u001b[0m\n\u001b[1;32m     29\u001b[0m \u001b[0;34m\u001b[0m\u001b[0m\n\u001b[0;32m---> 30\u001b[0;31m \u001b[0;32mfrom\u001b[0m \u001b[0mIPython\u001b[0m\u001b[0;34m.\u001b[0m\u001b[0mdisplay\u001b[0m \u001b[0;32mimport\u001b[0m \u001b[0mGeoJSON\u001b[0m\u001b[0;34m\u001b[0m\u001b[0;34m\u001b[0m\u001b[0m\n\u001b[0m\u001b[1;32m     31\u001b[0m \u001b[0;34m\u001b[0m\u001b[0m\n\u001b[1;32m     32\u001b[0m \u001b[0mpy\u001b[0m\u001b[0;34m.\u001b[0m\u001b[0minit_notebook_mode\u001b[0m\u001b[0;34m(\u001b[0m\u001b[0;34m)\u001b[0m\u001b[0;34m\u001b[0m\u001b[0;34m\u001b[0m\u001b[0m\n",
            "\u001b[0;31mImportError\u001b[0m: cannot import name 'GeoJSON' from 'IPython.display' (/usr/local/lib/python3.7/dist-packages/IPython/display.py)",
            "",
            "\u001b[0;31m---------------------------------------------------------------------------\u001b[0;32m\nNOTE: If your import is failing due to a missing package, you can\nmanually install dependencies using either !pip or !apt.\n\nTo view examples of installing some common dependencies, click the\n\"Open Examples\" button below.\n\u001b[0;31m---------------------------------------------------------------------------\u001b[0m\n"
          ],
          "errorDetails": {
            "actions": [
              {
                "action": "open_url",
                "actionText": "Open Examples",
                "url": "/notebooks/snippets/importing_libraries.ipynb"
              }
            ]
          }
        }
      ]
    },
    {
      "cell_type": "markdown",
      "metadata": {
        "id": "22y-uaUq_3Qb"
      },
      "source": [
        "For module 2 we'll be looking at techniques for dealing with big data. In particular binning strategies and the datashader library (which possibly proves we'll never need to bin large data for visualization ever again.)\n",
        "\n",
        "To demonstrate these concepts we'll be looking at the PLUTO dataset put out by New York City's department of city planning. PLUTO contains data about every tax lot in New York City.\n",
        "\n",
        "PLUTO data can be downloaded from [here](https://www1.nyc.gov/site/planning/data-maps/open-data/dwn-pluto-mappluto.page). Unzip them to the same directory as this notebook, and you should be able to read them in using this (or very similar) code. Also take note of the data dictionary, it'll come in handy for this assignment."
      ]
    },
    {
      "cell_type": "code",
      "metadata": {
        "id": "_6Yh3UmC_3Qc"
      },
      "source": [
        "# Code to read in v17, column names have been updated (without upper case letters) for v18\n",
        "\n",
        "# bk = pd.read_csv('PLUTO17v1.1/BK2017V11.csv')\n",
        "# bx = pd.read_csv('PLUTO17v1.1/BX2017V11.csv')\n",
        "# mn = pd.read_csv('PLUTO17v1.1/MN2017V11.csv')\n",
        "# qn = pd.read_csv('PLUTO17v1.1/QN2017V11.csv')\n",
        "# si = pd.read_csv('PLUTO17v1.1/SI2017V11.csv')\n",
        "\n",
        "# ny = pd.concat([bk, bx, mn, qn, si], ignore_index=True)\n",
        "from google.colab import files\n",
        "import io\n",
        "uploaded = files.upload()\n",
        "\n",
        "\n",
        "\n",
        "ny = pd.read_csv('pluto_19v1.csv')\n",
        "\n",
        "\n",
        "# Getting rid of some outliers\n",
        "ny = ny[(ny['yearbuilt'] > 1850) & (ny['yearbuilt'] < 2020) & (ny['numfloors'] != 0)]\n",
        "\n",
        "\n",
        "\n"
      ],
      "execution_count": null,
      "outputs": []
    },
    {
      "cell_type": "markdown",
      "metadata": {
        "id": "ySV93XAn_3Qd"
      },
      "source": [
        "I'll also do some prep for the geographic component of this data, which we'll be relying on for datashader.\n",
        "\n",
        "You're not required to know how I'm retrieving the lattitude and longitude here, but for those interested: this dataset uses a flat x-y projection (assuming for a small enough area that the world is flat for easier calculations), and this needs to be projected back to traditional lattitude and longitude."
      ]
    },
    {
      "cell_type": "code",
      "metadata": {
        "id": "UQ4avYCX_3Qe"
      },
      "source": [
        "\n",
        "\n",
        "# wgs84 = Proj(\"+proj=longlat +ellps=GRS80 +datum=NAD83 +no_defs\")\n",
        "# nyli = Proj(\"+proj=lcc +lat_1=40.66666666666666 +lat_2=41.03333333333333 +lat_0=40.16666666666666 +lon_0=-74 +x_0=300000 +y_0=0 +ellps=GRS80 +datum=NAD83 +to_meter=0.3048006096012192 +no_defs\")\n",
        "# ny['xcoord'] = 0.3048*ny['xcoord']\n",
        "# ny['ycoord'] = 0.3048*ny['ycoord']\n",
        "# ny['lon'], ny['lat'] = transform(nyli, wgs84, ny['xcoord'].values, ny['ycoord'].values)\n",
        "\n",
        "# ny = ny[(ny['lon'] < -60) & (ny['lon'] > -100) & (ny['lat'] < 60) & (ny['lat'] > 20)]\n",
        "\n",
        "#Defining some helper functions for DataShader\n",
        "background = \"black\"\n",
        "export = partial(export_image, background = background, export_path=\"export\")\n",
        "cm = partial(colormap_select, reverse=(background!=\"black\"))"
      ],
      "execution_count": null,
      "outputs": []
    },
    {
      "cell_type": "markdown",
      "metadata": {
        "id": "nyipZjgT_3Qf"
      },
      "source": [
        "## Part 1: Binning and Aggregation\n",
        "\n",
        "Binning is a common strategy for visualizing large datasets. Binning is inherent to a few types of visualizations, such as histograms and [2D histograms](https://plot.ly/python/2D-Histogram/) (also check out their close relatives: [2D density plots](https://plot.ly/python/2d-density-plots/) and the more general form: [heatmaps](https://plot.ly/python/heatmaps/).\n",
        "\n",
        "While these visualization types explicitly include binning, any type of visualization used with aggregated data can be looked at in the same way. For example, lets say we wanted to look at building construction over time. This would be best viewed as a line graph, but we can still think of our results as being binned by year:"
      ]
    },
    {
      "cell_type": "code",
      "metadata": {
        "id": "WN8Vf5sr_3Qf"
      },
      "source": [
        "trace = go.Scatter(\n",
        "    # I'm choosing BBL here because I know it's a unique key.\n",
        "    x = ny.groupby('yearbuilt').count()['bbl'].index,\n",
        "    y = ny.groupby('yearbuilt').count()['bbl']\n",
        ")\n",
        "\n",
        "layout = go.Layout(\n",
        "    xaxis = dict(title = 'Year Built'),\n",
        "    yaxis = dict(title = 'Number of Lots Built')\n",
        ")\n",
        "\n",
        "fig = go.FigureWidget(data = [trace], layout = layout)\n",
        "\n",
        "fig"
      ],
      "execution_count": null,
      "outputs": []
    },
    {
      "cell_type": "markdown",
      "metadata": {
        "id": "-xHCub4c_3Qg"
      },
      "source": [
        "Something looks off... You're going to have to deal with this imperfect data to answer this first question. \n",
        "\n",
        "But first: some notes on pandas. Pandas dataframes are a different beast than R dataframes, here are some tips to help you get up to speed:\n",
        "\n",
        "---\n",
        "\n",
        "Hello all, here are some pandas tips to help you guys through this homework:\n",
        "\n",
        "[Indexing and Selecting](https://pandas.pydata.org/pandas-docs/stable/indexing.html): .loc and .iloc are the analogs for base R subsetting, or filter() in dplyr\n",
        "\n",
        "[Group By](https://pandas.pydata.org/pandas-docs/stable/groupby.html):  This is the pandas analog to group_by() and the appended function the analog to summarize(). Try out a few examples of this, and display the results in Jupyter. Take note of what's happening to the indexes, you'll notice that they'll become hierarchical. I personally find this more of a burden than a help, and this sort of hierarchical indexing leads to a fundamentally different experience compared to R dataframes. Once you perform an aggregation, try running the resulting hierarchical datafrome through a [reset_index()](https://pandas.pydata.org/pandas-docs/stable/generated/pandas.DataFrame.reset_index.html).\n",
        "\n",
        "[Reset_index](https://pandas.pydata.org/pandas-docs/stable/generated/pandas.DataFrame.reset_index.html): I personally find the hierarchical indexes more of a burden than a help, and this sort of hierarchical indexing leads to a fundamentally different experience compared to R dataframes. reset_index() is a way of restoring a dataframe to a flatter index style. Grouping is where you'll notice it the most, but it's also useful when you filter data, and in a few other split-apply-combine workflows. With pandas indexes are more meaningful, so use this if you start getting unexpected results.\n",
        "\n",
        "Indexes are more important in Pandas than in R. If you delve deeper into the using python for data science, you'll begin to see the benefits in many places (despite the personal gripes I highlighted above.) One place these indexes come in handy is with time series data. The pandas docs have a [huge section](http://pandas.pydata.org/pandas-docs/stable/timeseries.html) on datetime indexing. In particular, check out [resample](https://pandas.pydata.org/pandas-docs/stable/generated/pandas.DataFrame.resample.html), which provides time series specific aggregation.\n",
        "\n",
        "[Merging, joining, and concatenation](https://pandas.pydata.org/pandas-docs/stable/merging.html): There's some overlap between these different types of merges, so use this as your guide. Concat is a single function that replaces cbind and rbind in R, and the results are driven by the indexes. Read through these examples to get a feel on how these are performed, but you will have to manage your indexes when you're using these functions. Merges are fairly similar to merges in R, similarly mapping to SQL joins.\n",
        "\n",
        "Apply: This is explained in the \"group by\" section linked above. These are your analogs to the plyr library in R. Take note of the lambda syntax used here, these are anonymous functions in python. Rather than predefining a custom function, you can just define it inline using lambda.\n",
        "\n",
        "Browse through the other sections for some other specifics, in particular reshaping and categorical data (pandas' answer to factors.) Pandas can take a while to get used to, but it is a pretty strong framework that makes more advanced functions easier once you get used to it. Rolling functions for example follow logically from the apply workflow (and led to the best google results ever when I first tried to find this out and googled \"pandas rolling\")\n",
        "\n",
        "Google Wes Mckinney's book \"Python for Data Analysis,\" which is a cookbook style intro to pandas. It's an O'Reilly book that should be pretty available out there.\n",
        "\n",
        "---\n",
        "\n",
        "### Question\n",
        "\n",
        "After a few building collapses, the City of New York is going to begin investigating older buildings for safety. The city is particularly worried about buildings that were unusually tall when they were built, since best-practices for safety hadn’t yet been determined. Create a graph that shows how many buildings of a certain number of floors were built in each year (note: you may want to use a log scale for the number of buildings). Find a strategy to bin buildings (It should be clear 20-29-story buildings, 30-39-story buildings, and 40-49-story buildings were first built in large numbers, but does it make sense to continue in this way as you get taller?)\n",
        "\n",
        "\n",
        "\n",
        "### Answer \n",
        "From the data dictionary.\n",
        "The number of full and partial stories starting from the ground floor, for the tallest building on the tax lot.\n",
        "Above ground basements are not included in the NUMBER OF FLOORS.\n",
        "A roof used for parking, farming, playground, etc. is not included in NUMBER OF\n",
        "FLOORS.\n",
        "If the NUMBER OF FLOORS is zero and the NUMBER OF BUILDINGS is greater than zero, then NUMBER OF FLOORS is not available for the tax lot.\n",
        "If the NUMBER OF FLOORS is zero and the NUMBER OF BUILDINGS is zero,\n",
        "then NUMBER OF FLOORS is not applicable for the tax lot.\n",
        "Plot showing when most buildings were constructed since 1850. It seems most buildings were constucted around 1920 to 1929.\n"
      ]
    },
    {
      "cell_type": "code",
      "metadata": {
        "id": "l69b__ba_3Qh"
      },
      "source": [
        "#ny.head()\n",
        "story_ny = ny[['yearbuilt', 'numfloors']]\n",
        "story_ny.head() \n"
      ],
      "execution_count": null,
      "outputs": []
    },
    {
      "cell_type": "code",
      "metadata": {
        "id": "zKC7zROuNCZt"
      },
      "source": [
        "#max floors\n",
        "ny.loc[:,'numfloors'].max()"
      ],
      "execution_count": null,
      "outputs": []
    },
    {
      "cell_type": "code",
      "metadata": {
        "id": "141cEZ1NNGAe"
      },
      "source": [
        "#min floors\n",
        "ny.loc[:,'numfloors'].min()"
      ],
      "execution_count": null,
      "outputs": []
    },
    {
      "cell_type": "code",
      "metadata": {
        "id": "HuTkn_bWN1Y7"
      },
      "source": [
        "answer = ny[['bbl','yearbuilt', 'numfloors']]\n",
        "answer.head()"
      ],
      "execution_count": null,
      "outputs": []
    },
    {
      "cell_type": "code",
      "metadata": {
        "id": "BZvwHpDsOHY4"
      },
      "source": [
        "# using bin function\n",
        "bins = [0,20,40,60,80,100,120,140,160,180,200,220]\n",
        "answer_bins = answer.groupby(['yearbuilt', pd.cut(answer.numfloors, bins)])\n",
        "answer_bins = answer_bins.size().unstack()\n",
        "answer_bins.tail()"
      ],
      "execution_count": null,
      "outputs": []
    },
    {
      "cell_type": "code",
      "metadata": {
        "id": "7vMnPUrCi8e-"
      },
      "source": [
        "answer['yearbuilt'] = (np.ceil(story_ny['yearbuilt'] / 10)* 10)\n",
        "trace = go.Scatter(\n",
        "    x = ny.groupby('yearbuilt').count()['numfloors'].index,\n",
        "    y = ny.groupby('yearbuilt').count()['bbl'],\n",
        "    \n",
        "        \n",
        "        )\n",
        "layout = go.Layout(\n",
        "    xaxis = dict(title = 'Built Time'),\n",
        "    yaxis = dict(title = 'Number of Building floors')\n",
        ")\n",
        "\n",
        "fig = go.Figure(data = [trace], layout = layout)\n",
        "\n",
        "\n",
        "py.iplot(fig, filename = 'ny-year-built-5bin')\n"
      ],
      "execution_count": null,
      "outputs": []
    },
    {
      "cell_type": "code",
      "metadata": {
        "id": "KPyK35Xji8UI"
      },
      "source": [
        ""
      ],
      "execution_count": null,
      "outputs": []
    },
    {
      "cell_type": "markdown",
      "metadata": {
        "id": "JM5v2D86_3Qi"
      },
      "source": [
        "## Part 2: Datashader\n",
        "\n",
        "Datashader is a library from Anaconda that does away with the need for binning data. It takes in all of your datapoints, and based on the canvas and range returns a pixel-by-pixel calculations to come up with the best representation of the data. In short, this completely eliminates the need for binning your data.\n",
        "\n",
        "As an example, lets continue with our question above and look at a 2D histogram of YearBuilt vs NumFloors:"
      ]
    },
    {
      "cell_type": "code",
      "metadata": {
        "id": "6_u42hBc_3Qi"
      },
      "source": [
        "fig = go.FigureWidget(\n",
        "    data = [\n",
        "        go.Histogram2d(x=ny['yearbuilt'], y=ny['numfloors'], autobiny=False, ybins={'size': 1}, colorscale='Greens')\n",
        "    ]\n",
        ")\n",
        "\n",
        "fig"
      ],
      "execution_count": null,
      "outputs": []
    },
    {
      "cell_type": "markdown",
      "metadata": {
        "id": "37V-wtcY_3Qi"
      },
      "source": [
        "This shows us the distribution, but it's subject to some biases discussed in the Anaconda notebook [Plotting Perils](https://anaconda.org/jbednar/plotting_pitfalls/notebook). \n",
        "\n",
        "Here is what the same plot would look like in datashader:\n",
        "\n"
      ]
    },
    {
      "cell_type": "code",
      "metadata": {
        "scrolled": false,
        "id": "pYOVPGcc_3Qj"
      },
      "source": [
        "#Defining some helper functions for DataShader\n",
        "background = \"black\"\n",
        "export = partial(export_image, background = background, export_path=\"export\")\n",
        "cm = partial(colormap_select, reverse=(background!=\"black\"))\n",
        "\n",
        "cvs = ds.Canvas(800, 500, x_range = (ny['yearbuilt'].min(), ny['yearbuilt'].max()), \n",
        "                                y_range = (ny['numfloors'].min(), ny['numfloors'].max()))\n",
        "agg = cvs.points(ny, 'yearbuilt', 'numfloors')\n",
        "view = tf.shade(agg, cmap = cm(Greys9), how='log')\n",
        "export(tf.spread(view, px=2), 'yearvsnumfloors')"
      ],
      "execution_count": null,
      "outputs": []
    },
    {
      "cell_type": "markdown",
      "metadata": {
        "id": "3XuJtW88_3Qj"
      },
      "source": [
        "That's technically just a scatterplot, but the points are smartly placed and colored to mimic what one gets in a heatmap. Based on the pixel size, it will either display individual points, or will color the points of denser regions.\n",
        "\n",
        "Datashader really shines when looking at geographic information. Here are the latitudes and longitudes of our dataset plotted out, giving us a map of the city colored by density of structures:"
      ]
    },
    {
      "cell_type": "code",
      "metadata": {
        "id": "fyR50DAo_3Qk"
      },
      "source": [
        "NewYorkCity   = (( 913164.0,  1067279.0), (120966.0, 272275.0))\n",
        "cvs = ds.Canvas(700, 700, *NewYorkCity)\n",
        "agg = cvs.points(ny, 'xcoord', 'ycoord')\n",
        "view = tf.shade(agg, cmap = cm(inferno), how='log')\n",
        "export(tf.spread(view, px=2), 'firery')"
      ],
      "execution_count": null,
      "outputs": []
    },
    {
      "cell_type": "markdown",
      "metadata": {
        "id": "l08WPYgv_3Qk"
      },
      "source": [
        "Interestingly, since we're looking at structures, the large buildings of Manhattan show up as less dense on the map. The densest areas measured by number of lots would be single or multi family townhomes.\n",
        "\n",
        "Unfortunately, Datashader doesn't have the best documentation. Browse through the examples from their [github repo](https://github.com/bokeh/datashader/tree/master/examples). I would focus on the [visualization pipeline](https://anaconda.org/jbednar/pipeline/notebook) and the [US Census](https://anaconda.org/jbednar/census/notebook) Example for the question below. Feel free to use my samples as templates as well when you work on this problem.\n",
        "\n",
        "### Question\n",
        "\n",
        "You work for a real estate developer and are researching underbuilt areas of the city. After looking in the [Pluto data dictionary](https://www1.nyc.gov/assets/planning/download/pdf/data-maps/open-data/pluto_datadictionary.pdf?v=17v1_1), you've discovered that all tax assessments consist of two parts: The assessment of the land and assessment of the structure. You reason that there should be a correlation between these two values: more valuable land will have more valuable structures on them (more valuable in this case refers not just to a mansion vs a bungalow, but an apartment tower vs a single family home). Deviations from the norm could represent underbuilt or overbuilt areas of the city. You also recently read a really cool blog post about [bivariate choropleth maps](http://www.joshuastevens.net/cartography/make-a-bivariate-choropleth-map/), and think the technique could be used for this problem.\n",
        "\n",
        "Datashader is really cool, but it's not that great at labeling your visualization. Don't worry about providing a legend, but provide a quick explanation as to which areas of the city are overbuilt, which areas are underbuilt, and which areas are built in a way that's properly correlated with their land value."
      ]
    },
    {
      "cell_type": "code",
      "metadata": {
        "id": "k7Nems4G_3Ql"
      },
      "source": [
        ""
      ],
      "execution_count": null,
      "outputs": []
    },
    {
      "cell_type": "markdown",
      "metadata": {
        "id": "HoBUTSeFkXAs"
      },
      "source": [
        "The interactive graph below shows the areas of the city that are underbuilt or overbuilt by zip code. The areas around 11697 (Rockaway), 10803 (Pelham) and 10464 (Bronx) seems to be underbuilt while zip codes 11109 (Long Island City) and 11241 (Brooklyn) seems to be over built.\n",
        "\n"
      ]
    },
    {
      "cell_type": "code",
      "metadata": {
        "id": "ospvN6_4ka8w"
      },
      "source": [
        "\n",
        "ny_taxes = ny[['bbl', 'longitude', 'latitude', 'assessland','assesstot']]\n",
        "ny_taxes.head()"
      ],
      "execution_count": null,
      "outputs": []
    },
    {
      "cell_type": "code",
      "metadata": {
        "id": "hj3X58IAvr2N"
      },
      "source": [
        "ny_taxes['assessland'].max()"
      ],
      "execution_count": null,
      "outputs": []
    },
    {
      "cell_type": "code",
      "metadata": {
        "colab": {
          "base_uri": "https://localhost:8080/",
          "height": 345
        },
        "id": "3DqvPZOzvwKi",
        "outputId": "37027c78-c2b0-4697-d98e-d4d8b51ecbf3"
      },
      "source": [
        "ny_taxes['diff'] = ny_taxes['assesstot'] - ny_taxes['assessland']\n",
        "ny_taxes.head()"
      ],
      "execution_count": 61,
      "outputs": [
        {
          "output_type": "stream",
          "name": "stderr",
          "text": [
            "/usr/local/lib/python3.7/dist-packages/ipykernel_launcher.py:1: SettingWithCopyWarning:\n",
            "\n",
            "\n",
            "A value is trying to be set on a copy of a slice from a DataFrame.\n",
            "Try using .loc[row_indexer,col_indexer] = value instead\n",
            "\n",
            "See the caveats in the documentation: https://pandas.pydata.org/pandas-docs/stable/user_guide/indexing.html#returning-a-view-versus-a-copy\n",
            "\n"
          ]
        },
        {
          "output_type": "execute_result",
          "data": {
            "text/html": [
              "<div>\n",
              "<style scoped>\n",
              "    .dataframe tbody tr th:only-of-type {\n",
              "        vertical-align: middle;\n",
              "    }\n",
              "\n",
              "    .dataframe tbody tr th {\n",
              "        vertical-align: top;\n",
              "    }\n",
              "\n",
              "    .dataframe thead th {\n",
              "        text-align: right;\n",
              "    }\n",
              "</style>\n",
              "<table border=\"1\" class=\"dataframe\">\n",
              "  <thead>\n",
              "    <tr style=\"text-align: right;\">\n",
              "      <th></th>\n",
              "      <th>bbl</th>\n",
              "      <th>longitude</th>\n",
              "      <th>latitude</th>\n",
              "      <th>assessland</th>\n",
              "      <th>assesstot</th>\n",
              "      <th>diff</th>\n",
              "    </tr>\n",
              "  </thead>\n",
              "  <tbody>\n",
              "    <tr>\n",
              "      <th>1</th>\n",
              "      <td>1.004450e+09</td>\n",
              "      <td>-73.988711</td>\n",
              "      <td>40.725333</td>\n",
              "      <td>359100.0</td>\n",
              "      <td>2072700.0</td>\n",
              "      <td>1713600.0</td>\n",
              "    </tr>\n",
              "    <tr>\n",
              "      <th>2</th>\n",
              "      <td>1.004670e+09</td>\n",
              "      <td>-73.987721</td>\n",
              "      <td>40.731190</td>\n",
              "      <td>300150.0</td>\n",
              "      <td>1114650.0</td>\n",
              "      <td>814500.0</td>\n",
              "    </tr>\n",
              "    <tr>\n",
              "      <th>3</th>\n",
              "      <td>3.026218e+09</td>\n",
              "      <td>-73.951001</td>\n",
              "      <td>40.726484</td>\n",
              "      <td>33753.0</td>\n",
              "      <td>850504.0</td>\n",
              "      <td>816751.0</td>\n",
              "    </tr>\n",
              "    <tr>\n",
              "      <th>4</th>\n",
              "      <td>1.019700e+09</td>\n",
              "      <td>-73.952741</td>\n",
              "      <td>40.817053</td>\n",
              "      <td>77400.0</td>\n",
              "      <td>1522800.0</td>\n",
              "      <td>1445400.0</td>\n",
              "    </tr>\n",
              "    <tr>\n",
              "      <th>5</th>\n",
              "      <td>2.026460e+09</td>\n",
              "      <td>-73.906469</td>\n",
              "      <td>40.819006</td>\n",
              "      <td>9600.0</td>\n",
              "      <td>40440.0</td>\n",
              "      <td>30840.0</td>\n",
              "    </tr>\n",
              "  </tbody>\n",
              "</table>\n",
              "</div>"
            ],
            "text/plain": [
              "            bbl  longitude   latitude  assessland  assesstot       diff\n",
              "1  1.004450e+09 -73.988711  40.725333    359100.0  2072700.0  1713600.0\n",
              "2  1.004670e+09 -73.987721  40.731190    300150.0  1114650.0   814500.0\n",
              "3  3.026218e+09 -73.951001  40.726484     33753.0   850504.0   816751.0\n",
              "4  1.019700e+09 -73.952741  40.817053     77400.0  1522800.0  1445400.0\n",
              "5  2.026460e+09 -73.906469  40.819006      9600.0    40440.0    30840.0"
            ]
          },
          "metadata": {},
          "execution_count": 61
        }
      ]
    },
    {
      "cell_type": "code",
      "metadata": {
        "colab": {
          "base_uri": "https://localhost:8080/",
          "height": 723
        },
        "id": "LSfGv28rv4G6",
        "outputId": "48ef1e91-726a-40a7-a0d6-146f49d2772b"
      },
      "source": [
        "act = reductions.count()\n",
        "glyph = ds.glyphs.Point('longitude', 'latitude')\n",
        "canvas = cvs\n",
        "agg = bypixel(ny_taxes, canvas, glyph, act)\n",
        "tf.shade(canvas.points(ny_taxes,'longitude','latitude',agg=reductions.mean('diff')))"
      ],
      "execution_count": 60,
      "outputs": [
        {
          "output_type": "execute_result",
          "data": {
            "image/png": "[encoded data removed]",
            "text/html": [
              "<img style=\"margin: auto; border:1px solid\" src='data:image/png;base64,iVBORw0KGgoAAAANSUhEUgAAArwAAAK8CAYAAAANumxDAAAHg0lEQVR4nO3BMQEAAADCoPVPbQ0PoAAAAAAAAAAAAAAAAAAAAAAAAAAAAAAAAAAAAAAAAAAAAAAAAAAAAAAAAAAAAAAAAAAAAAAAAAAAAAAAAAAAAAAAAAAAAAAAAAAAAAAAAAAAAAAAAAAAAAAAAAAAAAAAAAAAAAAAAAAAAAAAAAAAAAAAAAAAAAAAAAAAAAAAAAAAAAAAAAAAAAAAAAAAAAAAAAAAAAAAAAAAAAAAAAAAAAAAAAAAAAAAAAAAAAAAAAAAAAAAAAAAAAAAAAAAAAAAAAAAAAAAAAAAAAAAAAAAAAAAAAAAAAAAAAAAAAAAAAAAAAAAAAAAAAAAAAAAAAAAAAAAAAAAAAAAAAAAAAAAAAAAAAAAAAAAAAAAAAAAAAAAAAAAAAAAAAAAAAAAAAAAAAAAAAAAAAAAAAAAAAAAAAAAAAAAAAAAAAAAAAAAAAAAAAAAAAAAAAAAAAAAAAAAAAAAAAAAAAAAAAAAAAAAAAAAAAAAAAAAAAAAAAAAAAAAAAAAAAAAAAAAAAAAAAAAAAAAAAAAAAAAAAAAAAAAAAAAAAAAAAAAAAAAAAAAAAAAAAAAAAAAAAAAAAAAAAAAAAAAAAAAAAAAAAAAAAAAAAAAAAAAAAAAAAAAAAAAAAAAAAAAAAAAAAAAAAAAAAAAAAAAAAAAAAAAAAAAAAAAAAAAAAAAAAAAAAAAAAAAAAAAAAAAAAAAAAAAAAAAAAAAAAAAAAAAAAAAAAAAAAAAAAAAAAAAAAAAAAAAAAAAAAAAAAAAAAAAAAAAAAAAAAAAAAAAAAAAAAAAAAAAAAAAAAAAAAAAAAAAAAAAAAAAAAAAAAAAAAAAAAAAAAAAAAAAAAAAAAAAAAAAAAAAAAAAAAAAAAAAAAAAAAAAAAAAAAAAAAAAAAAAAAAAAAAAAAAAAAAAAAAAAAAAAAAAAAAAAAAAAAAAAAAAAAAAAAAAAAAAAAAAAAAAAAAAAAAAAAAAAAAAAAAAAAAAAAAAAAAAAAAAAAAAAAAAAAAAAAAAAAAAAAAAAAAAAAAAAAAAAAAAAAAAAAAAAAAAAAAAAAAAAAAAAAAAAAAAAAAAAAAAAAAAAAAAAAAAAAAAAAAAAAAAAAAAAAAAAAAAAAAAAAAAAAAAAAAAAAAAAAAAAAAAAAAAAAAAAAAAAAAAAAAAAAAAAAAAAAAAAAAAAAAAAAAAAAAAAAAAAAAAAAAAAAAAAAAAAAAAAAAAAAAAAAAAAAAAAAAAAAAAAAAAAAAAAAAAAAAAAAAAAAAAAAAAAAAAAAAAAAAAAAAAAAAAAAAAAAAAAAAAAAAAAAAAAAAAAAAAAAAAAAAAAAAAAAAAAAAAAAAAAAAAAAAAAAAAAAAAAAAAAAAAAAAAAAAAAAAAAAAAAAAAAAAAAAAAAAAAAAAAAAAAAAAAAAAAAAAAAAAAAAAAAAAAAAAAAAAAAAAAAAAAAAAAAAAAAAAAAAAAAAAAAAAAAAAAAAAAAAAAAAAAAAAAAAAAAAAAAAAAAAAAAAAAAAAAAAAAAAAAAAAAAAAAAAAAAAAAAAAAAAAAAAAAAAAAAAAAAAAAAAAAAAAAAAAAAAAAAAAAAAAAAAAAAAAAAAAAAAAAAAAAAAAAAAAAAAAAAAAAAAAAAAAAAAAAAAAAAAAAAAAAAAAAAAAAAAAAAAAAAAAAAAAAAAAAAAAAAAAAAAAAAAAAAAAAAAAAAAAAAAAAAAAAAAAAAAAAAAAAAAAAAAAAAAAAAAAAAAAAAAAAAAAAAAAAAAAAAAAAAAAAAAAAAAAAAAAAAAAAAAAAAAAAAAAAAAAAAAAAAAAAAAAAAAAAAAAAAAAAAAAAAAAAAAAAAAAAAAAAAAAAAAAAAAAAAAAAAAAAAAAAAAAAAAAAAAAAAAAAAAAAAAAAAAAAAAAAAAAAAAAAAAAAAAAAAAAAAAAAAAAAAAAAAAAAAAAAAAAAAAAAAAAAAAAAAAAAAAAAAAAAAAAAAAAAAAAAAAAAAAAAAAAAAAAAAAAAAAAAAAAAAAAAAAAAAAAAAAAAAAAAAAAAAAAAAAAAAAAAAAAAAAAAAAAAAAAAAAAAAAAAAAAAAAAAAAAAAAAAAAAAAAAAAAAAAAAAAAAAAAAAAAAAAAAAAAAAAAAAAAAAAAAAAAAAAAAAAAAAAAAAAAAAAAAAAAAAAAAAAAAAAAAAAAAAAAAAAAAAAAAAAAAAAAAAAAAAAAAAAAAAAAAAAAAAAAAAAAAAAAAAAAAAAAAAAAAAAAAAAAAAAAAAAAAAAAAAAAAAAAAAAAAAAAAAAAAAAAAAAAAAAAAAAAAAAAAAAAAAAAAAAAAAAAAAAAAAAAAAAAAAAAAAAAAAAAAAAAAAAAAAAAAAAAAAAAAAAAAAAAAAAAAAAAAAAAAAAAAAAAAAAAAAAAAAAAAAAAAAAAAAAAAAAAAAAAAAAAAAAAAAAAAAAAAAAAAAAAAAAAAAAAAAAAAAAAAAAAAAAAAAAAAAAAAAAAAAAAAAAAAAAAAAAAAAAAAAAAAAAAAAAAAAAAAAAAAAAAAAAAAAAAAAAAAAAAAAAAAAAAAAAAAAAIBnA+yvAAFGaTdiAAAAAElFTkSuQmCC'/>"
            ],
            "text/plain": [
              "<xarray.Image (latitude: 700, longitude: 700)>\n",
              "array([[0, 0, 0, ..., 0, 0, 0],\n",
              "       [0, 0, 0, ..., 0, 0, 0],\n",
              "       [0, 0, 0, ..., 0, 0, 0],\n",
              "       ...,\n",
              "       [0, 0, 0, ..., 0, 0, 0],\n",
              "       [0, 0, 0, ..., 0, 0, 0],\n",
              "       [0, 0, 0, ..., 0, 0, 0]], dtype=uint32)\n",
              "Coordinates:\n",
              "  * longitude  (longitude) float64 9.133e+05 9.135e+05 ... 1.067e+06 1.067e+06\n",
              "  * latitude   (latitude) float64 1.211e+05 1.213e+05 ... 2.72e+05 2.722e+05"
            ]
          },
          "metadata": {},
          "execution_count": 60
        }
      ]
    }
  ]
}